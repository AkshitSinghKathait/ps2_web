{
 "cells": [
  {
   "cell_type": "code",
   "execution_count": 1,
   "id": "6519cdc7",
   "metadata": {},
   "outputs": [],
   "source": [
    "import pandas as pd"
   ]
  },
  {
   "cell_type": "code",
   "execution_count": 2,
   "id": "4409d64a",
   "metadata": {},
   "outputs": [],
   "source": [
    "#df = pd.read_csv('CustomerSegmentation.csv' , index_col = 0 , encoding = 'Unicode_escape' )"
   ]
  },
  {
   "cell_type": "code",
   "execution_count": 3,
   "id": "16c1090f",
   "metadata": {},
   "outputs": [
    {
     "name": "stdout",
     "output_type": "stream",
     "text": [
      "Requirement already satisfied: fastai in c:\\users\\akshi\\anaconda3\\lib\\site-packages (2.7.13)\n",
      "Requirement already satisfied: pip in c:\\users\\akshi\\anaconda3\\lib\\site-packages (from fastai) (23.2.1)\n",
      "Requirement already satisfied: packaging in c:\\users\\akshi\\anaconda3\\lib\\site-packages (from fastai) (23.0)\n",
      "Requirement already satisfied: fastdownload<2,>=0.0.5 in c:\\users\\akshi\\anaconda3\\lib\\site-packages (from fastai) (0.0.7)\n",
      "Requirement already satisfied: fastcore<1.6,>=1.5.29 in c:\\users\\akshi\\anaconda3\\lib\\site-packages (from fastai) (1.5.29)\n",
      "Requirement already satisfied: torchvision>=0.11 in c:\\users\\akshi\\anaconda3\\lib\\site-packages (from fastai) (0.15.2a0)\n",
      "Requirement already satisfied: matplotlib in c:\\users\\akshi\\anaconda3\\lib\\site-packages (from fastai) (3.7.1)\n",
      "Requirement already satisfied: pandas in c:\\users\\akshi\\anaconda3\\lib\\site-packages (from fastai) (1.5.3)\n",
      "Requirement already satisfied: requests in c:\\users\\akshi\\anaconda3\\lib\\site-packages (from fastai) (2.31.0)\n",
      "Requirement already satisfied: pyyaml in c:\\users\\akshi\\anaconda3\\lib\\site-packages (from fastai) (6.0)\n",
      "Requirement already satisfied: fastprogress>=0.2.4 in c:\\users\\akshi\\anaconda3\\lib\\site-packages (from fastai) (1.0.3)\n",
      "Requirement already satisfied: pillow>=9.0.0 in c:\\users\\akshi\\anaconda3\\lib\\site-packages (from fastai) (9.4.0)\n",
      "Requirement already satisfied: scikit-learn in c:\\users\\akshi\\anaconda3\\lib\\site-packages (from fastai) (1.3.0)\n",
      "Requirement already satisfied: scipy in c:\\users\\akshi\\anaconda3\\lib\\site-packages (from fastai) (1.10.1)\n",
      "Requirement already satisfied: spacy<4 in c:\\users\\akshi\\anaconda3\\lib\\site-packages (from fastai) (3.5.3)\n",
      "Requirement already satisfied: torch<2.2,>=1.10 in c:\\users\\akshi\\anaconda3\\lib\\site-packages (from fastai) (2.1.0)\n",
      "Requirement already satisfied: spacy-legacy<3.1.0,>=3.0.11 in c:\\users\\akshi\\anaconda3\\lib\\site-packages (from spacy<4->fastai) (3.0.12)\n",
      "Requirement already satisfied: spacy-loggers<2.0.0,>=1.0.0 in c:\\users\\akshi\\anaconda3\\lib\\site-packages (from spacy<4->fastai) (1.0.4)\n",
      "Requirement already satisfied: murmurhash<1.1.0,>=0.28.0 in c:\\users\\akshi\\anaconda3\\lib\\site-packages (from spacy<4->fastai) (1.0.10)\n",
      "Requirement already satisfied: cymem<2.1.0,>=2.0.2 in c:\\users\\akshi\\anaconda3\\lib\\site-packages (from spacy<4->fastai) (2.0.6)\n",
      "Requirement already satisfied: preshed<3.1.0,>=3.0.2 in c:\\users\\akshi\\anaconda3\\lib\\site-packages (from spacy<4->fastai) (3.0.6)\n",
      "Requirement already satisfied: thinc<8.2.0,>=8.1.8 in c:\\users\\akshi\\anaconda3\\lib\\site-packages (from spacy<4->fastai) (8.1.10)\n",
      "Requirement already satisfied: wasabi<1.2.0,>=0.9.1 in c:\\users\\akshi\\anaconda3\\lib\\site-packages (from spacy<4->fastai) (0.9.1)\n",
      "Requirement already satisfied: srsly<3.0.0,>=2.4.3 in c:\\users\\akshi\\anaconda3\\lib\\site-packages (from spacy<4->fastai) (2.4.8)\n",
      "Requirement already satisfied: catalogue<2.1.0,>=2.0.6 in c:\\users\\akshi\\anaconda3\\lib\\site-packages (from spacy<4->fastai) (2.0.10)\n",
      "Requirement already satisfied: typer<0.8.0,>=0.3.0 in c:\\users\\akshi\\anaconda3\\lib\\site-packages (from spacy<4->fastai) (0.4.1)\n",
      "Requirement already satisfied: pathy>=0.10.0 in c:\\users\\akshi\\anaconda3\\lib\\site-packages (from spacy<4->fastai) (0.10.1)\n",
      "Requirement already satisfied: smart-open<7.0.0,>=5.2.1 in c:\\users\\akshi\\anaconda3\\lib\\site-packages (from spacy<4->fastai) (5.2.1)\n",
      "Requirement already satisfied: tqdm<5.0.0,>=4.38.0 in c:\\users\\akshi\\anaconda3\\lib\\site-packages (from spacy<4->fastai) (4.65.0)\n",
      "Requirement already satisfied: numpy>=1.15.0 in c:\\users\\akshi\\anaconda3\\lib\\site-packages (from spacy<4->fastai) (1.24.3)\n",
      "Requirement already satisfied: pydantic!=1.8,!=1.8.1,<1.11.0,>=1.7.4 in c:\\users\\akshi\\anaconda3\\lib\\site-packages (from spacy<4->fastai) (1.10.12)\n",
      "Requirement already satisfied: jinja2 in c:\\users\\akshi\\anaconda3\\lib\\site-packages (from spacy<4->fastai) (3.1.2)\n",
      "Requirement already satisfied: setuptools in c:\\users\\akshi\\anaconda3\\lib\\site-packages (from spacy<4->fastai) (68.0.0)\n",
      "Requirement already satisfied: langcodes<4.0.0,>=3.2.0 in c:\\users\\akshi\\anaconda3\\lib\\site-packages (from spacy<4->fastai) (3.3.0)\n",
      "Requirement already satisfied: charset-normalizer<4,>=2 in c:\\users\\akshi\\anaconda3\\lib\\site-packages (from requests->fastai) (2.0.4)\n",
      "Requirement already satisfied: idna<4,>=2.5 in c:\\users\\akshi\\anaconda3\\lib\\site-packages (from requests->fastai) (3.4)\n",
      "Requirement already satisfied: urllib3<3,>=1.21.1 in c:\\users\\akshi\\anaconda3\\lib\\site-packages (from requests->fastai) (1.26.16)\n",
      "Requirement already satisfied: certifi>=2017.4.17 in c:\\users\\akshi\\anaconda3\\lib\\site-packages (from requests->fastai) (2023.11.17)\n",
      "Requirement already satisfied: filelock in c:\\users\\akshi\\anaconda3\\lib\\site-packages (from torch<2.2,>=1.10->fastai) (3.9.0)\n",
      "Requirement already satisfied: typing-extensions in c:\\users\\akshi\\anaconda3\\lib\\site-packages (from torch<2.2,>=1.10->fastai) (4.7.1)\n",
      "Requirement already satisfied: sympy in c:\\users\\akshi\\anaconda3\\lib\\site-packages (from torch<2.2,>=1.10->fastai) (1.11.1)\n",
      "Requirement already satisfied: networkx in c:\\users\\akshi\\anaconda3\\lib\\site-packages (from torch<2.2,>=1.10->fastai) (3.1)\n",
      "Requirement already satisfied: fsspec in c:\\users\\akshi\\anaconda3\\lib\\site-packages (from torch<2.2,>=1.10->fastai) (2023.3.0)\n",
      "Requirement already satisfied: contourpy>=1.0.1 in c:\\users\\akshi\\anaconda3\\lib\\site-packages (from matplotlib->fastai) (1.0.5)\n",
      "Requirement already satisfied: cycler>=0.10 in c:\\users\\akshi\\anaconda3\\lib\\site-packages (from matplotlib->fastai) (0.11.0)\n",
      "Requirement already satisfied: fonttools>=4.22.0 in c:\\users\\akshi\\anaconda3\\lib\\site-packages (from matplotlib->fastai) (4.25.0)\n",
      "Requirement already satisfied: kiwisolver>=1.0.1 in c:\\users\\akshi\\anaconda3\\lib\\site-packages (from matplotlib->fastai) (1.4.4)\n",
      "Requirement already satisfied: pyparsing>=2.3.1 in c:\\users\\akshi\\anaconda3\\lib\\site-packages (from matplotlib->fastai) (3.0.9)\n",
      "Requirement already satisfied: python-dateutil>=2.7 in c:\\users\\akshi\\anaconda3\\lib\\site-packages (from matplotlib->fastai) (2.8.2)\n",
      "Requirement already satisfied: pytz>=2020.1 in c:\\users\\akshi\\anaconda3\\lib\\site-packages (from pandas->fastai) (2022.7)\n",
      "Requirement already satisfied: joblib>=1.1.1 in c:\\users\\akshi\\anaconda3\\lib\\site-packages (from scikit-learn->fastai) (1.2.0)\n",
      "Requirement already satisfied: threadpoolctl>=2.0.0 in c:\\users\\akshi\\anaconda3\\lib\\site-packages (from scikit-learn->fastai) (2.2.0)\n",
      "Requirement already satisfied: six>=1.5 in c:\\users\\akshi\\anaconda3\\lib\\site-packages (from python-dateutil>=2.7->matplotlib->fastai) (1.16.0)\n",
      "Requirement already satisfied: blis<0.8.0,>=0.7.8 in c:\\users\\akshi\\anaconda3\\lib\\site-packages (from thinc<8.2.0,>=8.1.8->spacy<4->fastai) (0.7.11)\n",
      "Requirement already satisfied: confection<1.0.0,>=0.0.1 in c:\\users\\akshi\\anaconda3\\lib\\site-packages (from thinc<8.2.0,>=8.1.8->spacy<4->fastai) (0.0.4)\n",
      "Requirement already satisfied: colorama in c:\\users\\akshi\\anaconda3\\lib\\site-packages (from tqdm<5.0.0,>=4.38.0->spacy<4->fastai) (0.4.6)\n",
      "Requirement already satisfied: click<9.0.0,>=7.1.1 in c:\\users\\akshi\\anaconda3\\lib\\site-packages (from typer<0.8.0,>=0.3.0->spacy<4->fastai) (8.0.4)\n",
      "Requirement already satisfied: MarkupSafe>=2.0 in c:\\users\\akshi\\anaconda3\\lib\\site-packages (from jinja2->spacy<4->fastai) (2.1.1)\n",
      "Requirement already satisfied: mpmath>=0.19 in c:\\users\\akshi\\anaconda3\\lib\\site-packages (from sympy->torch<2.2,>=1.10->fastai) (1.3.0)\n"
     ]
    }
   ],
   "source": [
    "!pip install fastai"
   ]
  },
  {
   "cell_type": "code",
   "execution_count": 4,
   "id": "eb683f99",
   "metadata": {},
   "outputs": [
    {
     "name": "stdout",
     "output_type": "stream",
     "text": [
      "Requirement already satisfied: psycopg2-binary in c:\\users\\akshi\\anaconda3\\lib\\site-packages (2.9.9)\n",
      "Note: you may need to restart the kernel to use updated packages.\n"
     ]
    }
   ],
   "source": [
    " pip install psycopg2-binary"
   ]
  },
  {
   "cell_type": "code",
   "execution_count": null,
   "id": "f9c0bca7",
   "metadata": {},
   "outputs": [],
   "source": [
    "from fastai.collab import *\n",
    "from fastai.tabular.all import *"
   ]
  },
  {
   "cell_type": "code",
   "execution_count": null,
   "id": "5ed4d876",
   "metadata": {},
   "outputs": [],
   "source": [
    "import psycopg2\n",
    "from psycopg2 import sql\n",
    "from sqlalchemy import create_engine"
   ]
  },
  {
   "cell_type": "code",
   "execution_count": null,
   "id": "b8fa57b5",
   "metadata": {},
   "outputs": [],
   "source": []
  },
  {
   "cell_type": "code",
   "execution_count": null,
   "id": "6740cc2d",
   "metadata": {},
   "outputs": [],
   "source": [
    "dbname = \"PSweb\"\n",
    "user = \"postgres\"\n",
    "password = \"MANU19\"\n",
    "host = \"localhost\"\n",
    "port = \"5432\""
   ]
  },
  {
   "cell_type": "code",
   "execution_count": null,
   "id": "9be96b31",
   "metadata": {},
   "outputs": [],
   "source": [
    "engine2 = create_engine(f'postgresql://{user}:{password}@{host}:{port}/{dbname}')"
   ]
  },
  {
   "cell_type": "code",
   "execution_count": null,
   "id": "6f076f53",
   "metadata": {},
   "outputs": [],
   "source": []
  },
  {
   "cell_type": "code",
   "execution_count": null,
   "id": "fa4aa76c",
   "metadata": {},
   "outputs": [],
   "source": [
    "conn = psycopg2.connect(dbname=dbname, user=user, password=password, host=host, port=port)\n"
   ]
  },
  {
   "cell_type": "code",
   "execution_count": null,
   "id": "1bb565d3",
   "metadata": {},
   "outputs": [],
   "source": [
    "\n",
    "cur = conn.cursor()"
   ]
  },
  {
   "cell_type": "code",
   "execution_count": null,
   "id": "76780f38",
   "metadata": {},
   "outputs": [],
   "source": [
    "table_name = \"customerordernew\"\n",
    "query = sql.SQL(\"SELECT * FROM {}\").format(sql.Identifier(table_name))"
   ]
  },
  {
   "cell_type": "code",
   "execution_count": null,
   "id": "0b406713",
   "metadata": {},
   "outputs": [],
   "source": [
    "# Execute the query\n",
    "cur.execute(query)"
   ]
  },
  {
   "cell_type": "code",
   "execution_count": null,
   "id": "693d620c",
   "metadata": {},
   "outputs": [],
   "source": [
    "# Fetch all rows\n",
    "rows = cur.fetchall()"
   ]
  },
  {
   "cell_type": "code",
   "execution_count": null,
   "id": "403ee17c",
   "metadata": {},
   "outputs": [],
   "source": [
    "# Create a DataFrame from the fetched data\n",
    "columns = [desc[0] for desc in cur.description]\n",
    "df = pd.DataFrame(rows, columns=columns)"
   ]
  },
  {
   "cell_type": "code",
   "execution_count": null,
   "id": "9ced4e73",
   "metadata": {},
   "outputs": [],
   "source": [
    "df.describe()"
   ]
  },
  {
   "cell_type": "code",
   "execution_count": null,
   "id": "b873fa87",
   "metadata": {},
   "outputs": [],
   "source": []
  },
  {
   "cell_type": "code",
   "execution_count": null,
   "id": "9f268a29",
   "metadata": {},
   "outputs": [],
   "source": []
  },
  {
   "cell_type": "code",
   "execution_count": null,
   "id": "3245d87f",
   "metadata": {},
   "outputs": [],
   "source": [
    "df.info()\n",
    "\n"
   ]
  },
  {
   "cell_type": "code",
   "execution_count": null,
   "id": "ab258b9e",
   "metadata": {},
   "outputs": [],
   "source": [
    "df = df.drop(['description'], axis=1   )"
   ]
  },
  {
   "cell_type": "code",
   "execution_count": null,
   "id": "63bd5870",
   "metadata": {},
   "outputs": [],
   "source": [
    "df['quantity'] = df['quantity'].astype(int)"
   ]
  },
  {
   "cell_type": "code",
   "execution_count": null,
   "id": "f6b95cb1",
   "metadata": {},
   "outputs": [],
   "source": [
    "df = df.dropna()"
   ]
  },
  {
   "cell_type": "code",
   "execution_count": null,
   "id": "aca1052c",
   "metadata": {},
   "outputs": [],
   "source": [
    "quant = df.groupby(['customerid', 'stockcode'])['quantity'].sum().reset_index()\n",
    "quant = quant.rename(columns={'quantity': 'totalquantity'})"
   ]
  },
  {
   "cell_type": "code",
   "execution_count": null,
   "id": "2b66bd91",
   "metadata": {},
   "outputs": [],
   "source": [
    "quant.head()"
   ]
  },
  {
   "cell_type": "code",
   "execution_count": null,
   "id": "6eb4dfbc",
   "metadata": {},
   "outputs": [],
   "source": []
  },
  {
   "cell_type": "code",
   "execution_count": null,
   "id": "9579d010",
   "metadata": {},
   "outputs": [],
   "source": []
  },
  {
   "cell_type": "code",
   "execution_count": null,
   "id": "ac9ec341",
   "metadata": {},
   "outputs": [],
   "source": [
    "import math"
   ]
  },
  {
   "cell_type": "code",
   "execution_count": null,
   "id": "c05a6a61",
   "metadata": {},
   "outputs": [],
   "source": [
    "quant['totalquantity'] = quant['totalquantity'].astype(int)\n"
   ]
  },
  {
   "cell_type": "code",
   "execution_count": null,
   "id": "fda715d9",
   "metadata": {},
   "outputs": [],
   "source": [
    "quant['totalquantity'].max()"
   ]
  },
  {
   "cell_type": "code",
   "execution_count": null,
   "id": "5cd52803",
   "metadata": {},
   "outputs": [],
   "source": [
    "for i in range(len(quant)) :\n",
    "   quant.loc[i, 'totalquantity'] = abs(quant['totalquantity'].iloc[i])\n"
   ]
  },
  {
   "cell_type": "code",
   "execution_count": null,
   "id": "0267105f",
   "metadata": {},
   "outputs": [],
   "source": []
  },
  {
   "cell_type": "code",
   "execution_count": null,
   "id": "65b86371",
   "metadata": {},
   "outputs": [],
   "source": [
    "dfm = quant "
   ]
  },
  {
   "cell_type": "code",
   "execution_count": null,
   "id": "16f1c4bb",
   "metadata": {},
   "outputs": [],
   "source": [
    "dfm.head()"
   ]
  },
  {
   "cell_type": "code",
   "execution_count": null,
   "id": "607cc659",
   "metadata": {},
   "outputs": [],
   "source": [
    "dfm.info()"
   ]
  },
  {
   "cell_type": "code",
   "execution_count": null,
   "id": "24b7bcbc",
   "metadata": {},
   "outputs": [],
   "source": [
    "dls = CollabDataLoaders.from_df(dfm, item_name='stockcode', user_name='customerid', rating_name='totalquantity' , bs=64 , valid_pct= 0.2)\n",
    "dls.show_batch()"
   ]
  },
  {
   "cell_type": "code",
   "execution_count": null,
   "id": "2c4d70c3",
   "metadata": {},
   "outputs": [],
   "source": [
    "learner_inf = collab_learner(dls, y_range=(0, 100), layers=[100,50])\n",
    "learner_inf.fit_one_cycle(8)"
   ]
  },
  {
   "cell_type": "code",
   "execution_count": null,
   "id": "74fb2ae0",
   "metadata": {},
   "outputs": [],
   "source": []
  },
  {
   "cell_type": "code",
   "execution_count": null,
   "id": "63037b38",
   "metadata": {},
   "outputs": [],
   "source": [
    "learner_inf.model"
   ]
  },
  {
   "cell_type": "code",
   "execution_count": null,
   "id": "f6504646",
   "metadata": {},
   "outputs": [],
   "source": [
    "user_bias = learner_inf.model.i_bias.weight\n",
    "item_bias = learner_inf.model.u_bias.weight\n",
    "#idxs = item_bias.argsort(descending=True)[:5]\n",
    "#[dls.classes['StockCode'][i] for i in idxs]"
   ]
  },
  {
   "cell_type": "code",
   "execution_count": null,
   "id": "81ade400",
   "metadata": {},
   "outputs": [],
   "source": [
    "#print(idxs)  #these are movie bias"
   ]
  },
  {
   "cell_type": "code",
   "execution_count": null,
   "id": "443e4db4",
   "metadata": {},
   "outputs": [],
   "source": [
    "sale = learner_inf.model.i_weight.weight.squeeze()"
   ]
  },
  {
   "cell_type": "code",
   "execution_count": null,
   "id": "7fe25648",
   "metadata": {},
   "outputs": [],
   "source": [
    "print(sale)"
   ]
  },
  {
   "cell_type": "code",
   "execution_count": null,
   "id": "2854316f",
   "metadata": {},
   "outputs": [],
   "source": [
    "user = learner_inf.model.u_weight.weight.squeeze()"
   ]
  },
  {
   "cell_type": "code",
   "execution_count": null,
   "id": "92ddc801",
   "metadata": {},
   "outputs": [],
   "source": [
    "print(user)"
   ]
  },
  {
   "cell_type": "code",
   "execution_count": null,
   "id": "a111bc6e",
   "metadata": {},
   "outputs": [],
   "source": []
  },
  {
   "cell_type": "code",
   "execution_count": null,
   "id": "adb40ab2",
   "metadata": {},
   "outputs": [],
   "source": [
    "sale_trans = sale.t()"
   ]
  },
  {
   "cell_type": "code",
   "execution_count": null,
   "id": "ff41b519",
   "metadata": {},
   "outputs": [],
   "source": [
    "mult = torch.matmul( user , sale_trans) "
   ]
  },
  {
   "cell_type": "code",
   "execution_count": null,
   "id": "0a97bd57",
   "metadata": {},
   "outputs": [],
   "source": [
    "mult.size()"
   ]
  },
  {
   "cell_type": "code",
   "execution_count": null,
   "id": "ad448158",
   "metadata": {},
   "outputs": [],
   "source": [
    "adding = add(mult , item_bias)"
   ]
  },
  {
   "cell_type": "code",
   "execution_count": null,
   "id": "e5704ccf",
   "metadata": {},
   "outputs": [],
   "source": [
    "addingtra = adding.t()"
   ]
  },
  {
   "cell_type": "code",
   "execution_count": null,
   "id": "aa39e038",
   "metadata": {},
   "outputs": [],
   "source": [
    "adding2 = add(addingtra , user_bias)"
   ]
  },
  {
   "cell_type": "code",
   "execution_count": null,
   "id": "9a981f57",
   "metadata": {},
   "outputs": [],
   "source": [
    "final = adding2.t()"
   ]
  },
  {
   "cell_type": "code",
   "execution_count": null,
   "id": "7f6c7f12",
   "metadata": {},
   "outputs": [],
   "source": []
  },
  {
   "cell_type": "code",
   "execution_count": null,
   "id": "3d3063ef",
   "metadata": {},
   "outputs": [],
   "source": [
    "final.size()"
   ]
  },
  {
   "cell_type": "code",
   "execution_count": null,
   "id": "ba03181f",
   "metadata": {},
   "outputs": [],
   "source": []
  },
  {
   "cell_type": "code",
   "execution_count": null,
   "id": "afc171f9",
   "metadata": {},
   "outputs": [],
   "source": [
    "print(final)"
   ]
  },
  {
   "cell_type": "code",
   "execution_count": null,
   "id": "4f5e053a",
   "metadata": {},
   "outputs": [],
   "source": [
    "out, inds = torch.max(final,dim=1) #since dim =1 ; we will get max of each row"
   ]
  },
  {
   "cell_type": "code",
   "execution_count": null,
   "id": "3c0ea89b",
   "metadata": {},
   "outputs": [],
   "source": [
    "print(inds)"
   ]
  },
  {
   "cell_type": "code",
   "execution_count": null,
   "id": "cc98a3d6",
   "metadata": {},
   "outputs": [],
   "source": []
  },
  {
   "cell_type": "code",
   "execution_count": null,
   "id": "87f3d658",
   "metadata": {},
   "outputs": [],
   "source": [
    "dfd = pd.DataFrame()"
   ]
  },
  {
   "cell_type": "code",
   "execution_count": null,
   "id": "a0726cf3",
   "metadata": {},
   "outputs": [],
   "source": [
    "dfd['bestsale'] = 'yh'"
   ]
  },
  {
   "cell_type": "code",
   "execution_count": null,
   "id": "bf29875e",
   "metadata": {},
   "outputs": [],
   "source": [
    "dfd['customerid'] = '0'"
   ]
  },
  {
   "cell_type": "code",
   "execution_count": null,
   "id": "f1536204",
   "metadata": {},
   "outputs": [],
   "source": [
    "dfd.head()"
   ]
  },
  {
   "cell_type": "code",
   "execution_count": null,
   "id": "871ff220",
   "metadata": {},
   "outputs": [],
   "source": [
    "for i in range(len(inds)) :\n",
    "  dfd['bestsale'].loc[i] = dfm['stockcode'].iloc[int(inds[i])]"
   ]
  },
  {
   "cell_type": "code",
   "execution_count": null,
   "id": "29960fd2",
   "metadata": {},
   "outputs": [],
   "source": []
  },
  {
   "cell_type": "code",
   "execution_count": null,
   "id": "8c870f67",
   "metadata": {},
   "outputs": [],
   "source": [
    "dfd1 = dfm['customerid'].unique()"
   ]
  },
  {
   "cell_type": "code",
   "execution_count": null,
   "id": "77120608",
   "metadata": {},
   "outputs": [],
   "source": [
    "print(dfd1)"
   ]
  },
  {
   "cell_type": "code",
   "execution_count": null,
   "id": "0541a6f3",
   "metadata": {},
   "outputs": [],
   "source": [
    "for i in range(len(dfd1)) :\n",
    "    dfd['customerid'].loc[i] = dfd1[i]"
   ]
  },
  {
   "cell_type": "code",
   "execution_count": null,
   "id": "12b6b318",
   "metadata": {},
   "outputs": [],
   "source": []
  },
  {
   "cell_type": "code",
   "execution_count": null,
   "id": "822c6cd8",
   "metadata": {},
   "outputs": [],
   "source": [
    "dff = pd.DataFrame(columns=['customerid'])"
   ]
  },
  {
   "cell_type": "code",
   "execution_count": null,
   "id": "a9cf7183",
   "metadata": {},
   "outputs": [],
   "source": [
    "dff = dff.rename(columns={'customerid': 'customerid'})"
   ]
  },
  {
   "cell_type": "code",
   "execution_count": null,
   "id": "72fd29fa",
   "metadata": {},
   "outputs": [],
   "source": [
    "for row in dfd1:\n",
    "    dff = dff.append(pd.Series(row, index=dff.columns), ignore_index=True)"
   ]
  },
  {
   "cell_type": "code",
   "execution_count": null,
   "id": "400e2440",
   "metadata": {},
   "outputs": [],
   "source": [
    "dff.head()"
   ]
  },
  {
   "cell_type": "code",
   "execution_count": null,
   "id": "6375c861",
   "metadata": {},
   "outputs": [],
   "source": [
    "dff.describe()"
   ]
  },
  {
   "cell_type": "code",
   "execution_count": null,
   "id": "84de6af8",
   "metadata": {},
   "outputs": [],
   "source": [
    "dff1 = pd.DataFrame(columns=['sale'])"
   ]
  },
  {
   "cell_type": "code",
   "execution_count": null,
   "id": "06be3813",
   "metadata": {},
   "outputs": [],
   "source": [
    "arr = np.empty(len(inds), dtype=object)"
   ]
  },
  {
   "cell_type": "code",
   "execution_count": null,
   "id": "9564440f",
   "metadata": {},
   "outputs": [],
   "source": [
    "for i in range(len(inds)):\n",
    "     arr[i] = dfm['stockcode'].iloc[int(inds[i])]"
   ]
  },
  {
   "cell_type": "code",
   "execution_count": null,
   "id": "1343f07c",
   "metadata": {},
   "outputs": [],
   "source": [
    "#print(arr)"
   ]
  },
  {
   "cell_type": "code",
   "execution_count": null,
   "id": "0f53215b",
   "metadata": {},
   "outputs": [],
   "source": [
    "#print(len(arr))"
   ]
  },
  {
   "cell_type": "code",
   "execution_count": null,
   "id": "23fa691d",
   "metadata": {},
   "outputs": [],
   "source": [
    "dff1 = pd.DataFrame({'stockcode': arr})\n"
   ]
  },
  {
   "cell_type": "code",
   "execution_count": null,
   "id": "3926bf09",
   "metadata": {},
   "outputs": [],
   "source": [
    "#ff1.head()"
   ]
  },
  {
   "cell_type": "code",
   "execution_count": null,
   "id": "5ac86969",
   "metadata": {},
   "outputs": [],
   "source": [
    "#dff1.describe()"
   ]
  },
  {
   "cell_type": "code",
   "execution_count": null,
   "id": "b7a616e8",
   "metadata": {},
   "outputs": [],
   "source": []
  },
  {
   "cell_type": "code",
   "execution_count": null,
   "id": "09a4b188",
   "metadata": {},
   "outputs": [],
   "source": []
  },
  {
   "cell_type": "code",
   "execution_count": null,
   "id": "703a5627",
   "metadata": {},
   "outputs": [],
   "source": []
  },
  {
   "cell_type": "code",
   "execution_count": null,
   "id": "dee1345b",
   "metadata": {},
   "outputs": [],
   "source": [
    "\n"
   ]
  },
  {
   "cell_type": "code",
   "execution_count": null,
   "id": "288957a1",
   "metadata": {},
   "outputs": [],
   "source": []
  },
  {
   "cell_type": "code",
   "execution_count": null,
   "id": "22b14450",
   "metadata": {},
   "outputs": [],
   "source": []
  },
  {
   "cell_type": "code",
   "execution_count": null,
   "id": "92f9f488",
   "metadata": {},
   "outputs": [],
   "source": []
  },
  {
   "cell_type": "code",
   "execution_count": null,
   "id": "89289b28",
   "metadata": {},
   "outputs": [],
   "source": []
  },
  {
   "cell_type": "code",
   "execution_count": null,
   "id": "7308e2b0",
   "metadata": {},
   "outputs": [],
   "source": [
    "result = pd.concat([dff, dff1], axis=1 )"
   ]
  },
  {
   "cell_type": "code",
   "execution_count": null,
   "id": "912022df",
   "metadata": {},
   "outputs": [],
   "source": [
    "result.head()"
   ]
  },
  {
   "cell_type": "code",
   "execution_count": null,
   "id": "dc0740ce",
   "metadata": {},
   "outputs": [],
   "source": [
    "# Get the indices of the second-largest elements along each row\n",
    "index2, indices_second_largest = torch.topk(final, k=2, dim=1)\n",
    "\n",
    "# Use the indices to get the second-largest elements\n",
    "second_largest_elements = torch.gather(final, dim=1, index=indices_second_largest[:, 1].view(-1, 1))"
   ]
  },
  {
   "cell_type": "raw",
   "id": "dff69fc6",
   "metadata": {},
   "source": []
  },
  {
   "cell_type": "code",
   "execution_count": null,
   "id": "d3b725b5",
   "metadata": {},
   "outputs": [],
   "source": [
    "\n",
    "# Convert the PyTorch tensor to a NumPy array\n",
    "indices_second_largest_np = indices_second_largest.detach().numpy()\n",
    "second_largest_indices = indices_second_largest_np[:, 1]\n"
   ]
  },
  {
   "cell_type": "code",
   "execution_count": null,
   "id": "f6878d40",
   "metadata": {},
   "outputs": [],
   "source": [
    "print(second_largest_indices)"
   ]
  },
  {
   "cell_type": "code",
   "execution_count": null,
   "id": "2d43fa5d",
   "metadata": {},
   "outputs": [],
   "source": []
  },
  {
   "cell_type": "code",
   "execution_count": null,
   "id": "e16ee508",
   "metadata": {},
   "outputs": [],
   "source": [
    "\n",
    "# Convert the PyTorch tensor to a NumPy array\n",
    "second_largest_elements_np = second_largest_elements.detach().numpy()\n",
    "\n",
    "# Create a new DataFrame or add a new column to the existing DataFrame\n",
    "#result['2best'] = second_largest_elements_np.tolist()"
   ]
  },
  {
   "cell_type": "raw",
   "id": "01dd9027",
   "metadata": {},
   "source": []
  },
  {
   "cell_type": "code",
   "execution_count": null,
   "id": "781da2a7",
   "metadata": {},
   "outputs": [],
   "source": [
    "result['bestsale2nd'] = result['customerid'] + 5"
   ]
  },
  {
   "cell_type": "code",
   "execution_count": null,
   "id": "fadc2e4a",
   "metadata": {},
   "outputs": [],
   "source": [
    "for i in range(len(inds)) :\n",
    "  result['bestsale2nd'].loc[i] = dfm['stockcode'].iloc[int(second_largest_indices[i])]"
   ]
  },
  {
   "cell_type": "code",
   "execution_count": null,
   "id": "98884bde",
   "metadata": {},
   "outputs": [],
   "source": []
  },
  {
   "cell_type": "code",
   "execution_count": null,
   "id": "dd2f7f12",
   "metadata": {},
   "outputs": [],
   "source": [
    "result.head()"
   ]
  },
  {
   "cell_type": "code",
   "execution_count": null,
   "id": "ee1e98e7",
   "metadata": {},
   "outputs": [],
   "source": [
    "##THIRD LARGEST INDEXX"
   ]
  },
  {
   "cell_type": "code",
   "execution_count": null,
   "id": "cefe3e94",
   "metadata": {},
   "outputs": [],
   "source": [
    "# Get the indices of the second-largest elements along each row\n",
    "index3, indices_third_largest = torch.topk(final, k=3, dim=1)"
   ]
  },
  {
   "cell_type": "code",
   "execution_count": null,
   "id": "7dae6c37",
   "metadata": {},
   "outputs": [],
   "source": [
    "\n",
    "# Convert the PyTorch tensor to a NumPy array\n",
    "indices_third_largest_np = indices_third_largest.detach().numpy()\n",
    "third_largest_indices = indices_third_largest_np[:, 2]"
   ]
  },
  {
   "cell_type": "code",
   "execution_count": null,
   "id": "9f1acae8",
   "metadata": {},
   "outputs": [],
   "source": [
    "print(third_largest_indices)"
   ]
  },
  {
   "cell_type": "code",
   "execution_count": null,
   "id": "585f2cf2",
   "metadata": {},
   "outputs": [],
   "source": []
  },
  {
   "cell_type": "code",
   "execution_count": null,
   "id": "119cf4f9",
   "metadata": {},
   "outputs": [],
   "source": [
    "result['bestsale3rd'] = result['customerid'] + 5"
   ]
  },
  {
   "cell_type": "code",
   "execution_count": null,
   "id": "968653d6",
   "metadata": {},
   "outputs": [],
   "source": [
    "for i in range(len(inds)) :\n",
    "  result['bestsale3rd'].loc[i] = dfm['stockcode'].iloc[int(third_largest_indices[i])]"
   ]
  },
  {
   "cell_type": "code",
   "execution_count": null,
   "id": "14d1415e",
   "metadata": {},
   "outputs": [],
   "source": []
  },
  {
   "cell_type": "code",
   "execution_count": null,
   "id": "69ba89f3",
   "metadata": {},
   "outputs": [],
   "source": [
    "result.head()"
   ]
  },
  {
   "cell_type": "code",
   "execution_count": null,
   "id": "cef9b568",
   "metadata": {},
   "outputs": [],
   "source": [
    "## 4 best sale "
   ]
  },
  {
   "cell_type": "code",
   "execution_count": null,
   "id": "8b9f1d31",
   "metadata": {},
   "outputs": [],
   "source": [
    "# Get the indices of the second-largest elements along each row\n",
    "index4, indices_fourth_largest = torch.topk(final, k=5, dim=1)"
   ]
  },
  {
   "cell_type": "code",
   "execution_count": null,
   "id": "f078042c",
   "metadata": {},
   "outputs": [],
   "source": [
    "# Convert the PyTorch tensor to a NumPy array\n",
    "indices_fourth_largest_np = indices_fourth_largest.detach().numpy()\n",
    "fourth_largest_indices = indices_fourth_largest_np[:, 3]"
   ]
  },
  {
   "cell_type": "code",
   "execution_count": null,
   "id": "66be921e",
   "metadata": {},
   "outputs": [],
   "source": [
    "result['bestsale4th'] = result['customerid'] + 5"
   ]
  },
  {
   "cell_type": "code",
   "execution_count": null,
   "id": "0986ad6d",
   "metadata": {},
   "outputs": [],
   "source": [
    "for i in range(len(inds)) :\n",
    "  result['bestsale4th'].loc[i] = dfm['stockcode'].iloc[int(fourth_largest_indices[i])]"
   ]
  },
  {
   "cell_type": "code",
   "execution_count": null,
   "id": "05c8b22c",
   "metadata": {},
   "outputs": [],
   "source": [
    "fifth_largest_indices = indices_fourth_largest_np[:, 4]"
   ]
  },
  {
   "cell_type": "code",
   "execution_count": null,
   "id": "af99aa3c",
   "metadata": {},
   "outputs": [],
   "source": [
    "result['bestsale5th'] = result['customerid'] + 5"
   ]
  },
  {
   "cell_type": "code",
   "execution_count": null,
   "id": "5c560311",
   "metadata": {},
   "outputs": [],
   "source": [
    "for i in range(len(inds)) :\n",
    "  result['bestsale5th'].loc[i] = dfm['stockcode'].iloc[int(fifth_largest_indices[i])]"
   ]
  },
  {
   "cell_type": "code",
   "execution_count": null,
   "id": "ce2036e0",
   "metadata": {},
   "outputs": [],
   "source": [
    "result.head()"
   ]
  },
  {
   "cell_type": "code",
   "execution_count": null,
   "id": "2b503e99",
   "metadata": {},
   "outputs": [],
   "source": [
    "result = result.dropna()"
   ]
  },
  {
   "cell_type": "code",
   "execution_count": null,
   "id": "7fd12646",
   "metadata": {},
   "outputs": [],
   "source": [
    "table_name = 'customerrecostock'"
   ]
  },
  {
   "cell_type": "code",
   "execution_count": null,
   "id": "20617430",
   "metadata": {},
   "outputs": [],
   "source": [
    "with engine2.connect() as connection:\n",
    "    connection.execute(f\"DELETE FROM {table_name}\")"
   ]
  },
  {
   "cell_type": "code",
   "execution_count": null,
   "id": "1518e673",
   "metadata": {},
   "outputs": [],
   "source": [
    "result.to_sql(table_name, engine2, index=False, if_exists='append')"
   ]
  },
  {
   "cell_type": "code",
   "execution_count": null,
   "id": "e7cf5a03",
   "metadata": {},
   "outputs": [],
   "source": []
  },
  {
   "cell_type": "code",
   "execution_count": null,
   "id": "31e62140",
   "metadata": {},
   "outputs": [],
   "source": [
    "#result.to_csv('finaloutput_recommender2.csv')"
   ]
  },
  {
   "cell_type": "raw",
   "id": "c4e099dc",
   "metadata": {},
   "source": []
  },
  {
   "cell_type": "code",
   "execution_count": null,
   "id": "03120ce1",
   "metadata": {},
   "outputs": [],
   "source": []
  }
 ],
 "metadata": {
  "kernelspec": {
   "display_name": "Python 3 (ipykernel)",
   "language": "python",
   "name": "python3"
  },
  "language_info": {
   "codemirror_mode": {
    "name": "ipython",
    "version": 3
   },
   "file_extension": ".py",
   "mimetype": "text/x-python",
   "name": "python",
   "nbconvert_exporter": "python",
   "pygments_lexer": "ipython3",
   "version": "3.11.4"
  }
 },
 "nbformat": 4,
 "nbformat_minor": 5
}
